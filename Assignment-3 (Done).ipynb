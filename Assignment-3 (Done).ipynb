{
 "cells": [
  {
   "cell_type": "markdown",
   "metadata": {},
   "source": [
    "<h3>Q no 1:  Write a python program to find number of occurrences of given number in a list with out using built-in methods</h3>\n",
    "<h4>**1 generate a list of some random num which is repeated again and again</h4>\n",
    "<h4>**2 take user input any number</h4>\n",
    "<h4>**3 find the number of occurrences of that num in your list</h4>\n",
    "<h4>**4 print some message to user with that result</h4>"
   ]
  },
  {
   "cell_type": "code",
   "execution_count": 15,
   "metadata": {},
   "outputs": [
    {
     "name": "stdout",
     "output_type": "stream",
     "text": [
      "Entry any number: 7\n",
      "6 times repeated in list.\n"
     ]
    }
   ],
   "source": [
    "numlist = [1,2,3,4,5,6,7,8,9,0,9,8,7,6,5,4,3,2,1,0,1,2,3,4,5,6,7,8,9,0,9,8,7,6,5,4,3,2,1,0,1,2,3,4,5,6,7,8,9,0,1,2,3,4,5,6,7]\n",
    "userinput = int(input(\"Entry any number: \"))\n",
    "counter = 0\n",
    "for a in numlist:\n",
    "    if a == userinput:\n",
    "        counter = counter + 1\n",
    "print(str(counter)+\" times repeated in list.\")"
   ]
  },
  {
   "cell_type": "code",
   "execution_count": null,
   "metadata": {},
   "outputs": [],
   "source": []
  },
  {
   "cell_type": "markdown",
   "metadata": {},
   "source": [
    "<h3>Q no 2:   [\"www.zframez.com\", \"www.wikipedia.org\", \"www.asp.net\", \"www.abcd.in\"]\n",
    "<br/><br/><br/><br/><br/>\n",
    "Write a python program to print website suffixes (com , org , net ,in) from this list\n",
    "\n",
    "Hint : Use split() method to perform this task\n",
    "</h3>\n"
   ]
  },
  {
   "cell_type": "code",
   "execution_count": 16,
   "metadata": {},
   "outputs": [
    {
     "name": "stdout",
     "output_type": "stream",
     "text": [
      "com\n",
      "\n",
      "org\n",
      "\n",
      "net\n",
      "\n",
      "in\n",
      "\n"
     ]
    }
   ],
   "source": [
    "web_links = [\"www.zframez.com\", \"www.wikipedia.org\", \"www.asp.net\", \"www.abcd.in\"] \n",
    "for b in web_links:\n",
    "    b = b.split(\".\")\n",
    "    print(b[2]+ \"\\n\")\n"
   ]
  },
  {
   "cell_type": "code",
   "execution_count": null,
   "metadata": {},
   "outputs": [],
   "source": []
  },
  {
   "cell_type": "markdown",
   "metadata": {},
   "source": [
    "<h3> Q no 3 : Write a program which can compute the factorial of a given numbers.</h3>\n",
    "<br/>\n",
    "<br/>\n",
    "<h4>**1 first take user input any number</h4>\n",
    "<h4>**2 calculate factorial of that input and then print the result to user</h4>"
   ]
  },
  {
   "cell_type": "code",
   "execution_count": 21,
   "metadata": {},
   "outputs": [
    {
     "name": "stdout",
     "output_type": "stream",
     "text": [
      "Enter Number to find factorial: 7\n",
      "0\n",
      "1\n",
      "2\n",
      "3\n",
      "4\n",
      "5\n",
      "6\n",
      "5040\n"
     ]
    }
   ],
   "source": [
    "user_input1 = int(input(\"Enter Number to find factorial: \"))\n",
    "c = range(user_input1)\n",
    "find_frac = 1\n",
    "for i in c:\n",
    "    print(i)\n",
    "    find_frac = find_frac * (i + 1)\n",
    "print(find_frac)\n"
   ]
  },
  {
   "cell_type": "code",
   "execution_count": null,
   "metadata": {},
   "outputs": [],
   "source": []
  },
  {
   "cell_type": "code",
   "execution_count": null,
   "metadata": {},
   "outputs": [],
   "source": []
  },
  {
   "cell_type": "code",
   "execution_count": null,
   "metadata": {},
   "outputs": [],
   "source": []
  },
  {
   "cell_type": "markdown",
   "metadata": {},
   "source": [
    "<h3>Q 4 (a) :  If you could invite anyone, living or deceased, to dinner, who\n",
    "would you invite? Make a list that includes at least three people you’d like to\n",
    "invite to dinner. Then use your list to print a message to each person, inviting\n",
    "them to dinner.</h3>"
   ]
  },
  {
   "cell_type": "code",
   "execution_count": 31,
   "metadata": {},
   "outputs": [
    {
     "name": "stdout",
     "output_type": "stream",
     "text": [
      "Assalam u aliyekum Ahmed. after a long period we didn't meet each other so i have decided to arrange get together with all our  friends on dinner and you are cordially invited on dinner.\n",
      "\n",
      "Assalam u aliyekum Sadiq. after a long period we didn't meet each other so i have decided to arrange get together with all our  friends on dinner and you are cordially invited on dinner.\n",
      "\n",
      "Assalam u aliyekum Yousuf. after a long period we didn't meet each other so i have decided to arrange get together with all our  friends on dinner and you are cordially invited on dinner.\n",
      "\n",
      "Assalam u aliyekum Ali. after a long period we didn't meet each other so i have decided to arrange get together with all our  friends on dinner and you are cordially invited on dinner.\n",
      "\n",
      "Assalam u aliyekum Atif. after a long period we didn't meet each other so i have decided to arrange get together with all our  friends on dinner and you are cordially invited on dinner.\n",
      "\n",
      "Assalam u aliyekum Sarfaraz. after a long period we didn't meet each other so i have decided to arrange get together with all our  friends on dinner and you are cordially invited on dinner.\n",
      "\n"
     ]
    }
   ],
   "source": [
    "guest_list = [\"Ahmed\",\"Sadiq\",\"Yousuf\",\"Ali\",\"Atif\",\"Sarfaraz\"]\n",
    "for invite in guest_list :\n",
    "    print(\"Assalam u aliyekum \" + str(invite)+\".\" + \" after a long period we didn't meet each other so i have decided to arrange get together with all our  friends on dinner and you are cordially invited on dinner.\\n\")\n"
   ]
  },
  {
   "cell_type": "code",
   "execution_count": null,
   "metadata": {},
   "outputs": [],
   "source": []
  },
  {
   "cell_type": "code",
   "execution_count": null,
   "metadata": {},
   "outputs": [],
   "source": []
  },
  {
   "cell_type": "markdown",
   "metadata": {},
   "source": [
    "<h3>Q 4 (b) : You just heard that one of your guests can’t make the\n",
    "dinner, so you need to send out a new set of invitations. You’ll have to think of\n",
    "someone else to invite.<br/></br><br/>\n",
    "•\t Start with your program from Q 4 (a). Add a print statement at the\n",
    "end of your program stating the name of the guest who can’t make it.<br/></br><br/>\n",
    "•\t Modify your list, replacing the name of the guest who can’t make it with\n",
    "the name of the new person you are inviting.<br/></br><br/>\n",
    "•\t Print a second set of invitation messages, one for each person who is still\n",
    "in your list.<br/></br><br/></h3>"
   ]
  },
  {
   "cell_type": "code",
   "execution_count": 35,
   "metadata": {},
   "outputs": [
    {
     "name": "stdout",
     "output_type": "stream",
     "text": [
      "Ali Can't make dinner for party.\n",
      "Assalam u aliyekum Ahmed. after a long period we didn't meet each other so i have decided to arrange get together with all our  friends on dinner and you are cordially invited on dinner.\n",
      "\n",
      "Assalam u aliyekum Sadiq. after a long period we didn't meet each other so i have decided to arrange get together with all our  friends on dinner and you are cordially invited on dinner.\n",
      "\n",
      "Assalam u aliyekum Yousuf. after a long period we didn't meet each other so i have decided to arrange get together with all our  friends on dinner and you are cordially invited on dinner.\n",
      "\n",
      "Assalam u aliyekum Omar. after a long period we didn't meet each other so i have decided to arrange get together with all our  friends on dinner and you are cordially invited on dinner.\n",
      "\n",
      "Assalam u aliyekum Atif. after a long period we didn't meet each other so i have decided to arrange get together with all our  friends on dinner and you are cordially invited on dinner.\n",
      "\n",
      "Assalam u aliyekum Sarfaraz. after a long period we didn't meet each other so i have decided to arrange get together with all our  friends on dinner and you are cordially invited on dinner.\n",
      "\n"
     ]
    }
   ],
   "source": [
    "\n",
    "print(str(guest_list[3])+\" Can't make dinner for party.\")\n",
    "guest_list[3] = \"Omar\"\n",
    "for invite in guest_list:\n",
    "    print(\"Assalam u aliyekum \" + str(invite)+\".\" + \" after a long period we didn't meet each other so i have decided to arrange get together with all our  friends on dinner and you are cordially invited on dinner.\\n\")"
   ]
  },
  {
   "cell_type": "code",
   "execution_count": null,
   "metadata": {},
   "outputs": [],
   "source": []
  },
  {
   "cell_type": "code",
   "execution_count": null,
   "metadata": {},
   "outputs": [],
   "source": []
  },
  {
   "cell_type": "markdown",
   "metadata": {},
   "source": [
    "<h3>Q 4 (c) : You just found a bigger dinner table, so now more space is\n",
    "available. Think of three more guests to invite to dinner.<br/></br><br/>\n",
    "•\t Start with your program from Q 4 (a) and (b) Add a print\n",
    "statement to the end of your program informing people that you found a\n",
    "bigger dinner table.<br/></br><br/>\n",
    "•\t Use insert() to add one new guest to the beginning of your list.<br/></br><br/>\n",
    "•\t Use insert() to add one new guest to the middle of your list.<br/></br><br/>\n",
    "•\t Use append() to add one new guest to the end of your list.<br/></br><br/>\n",
    "•\t Print a new set of invitation messages, one for each person in your list.<br/></br><br/></h3>"
   ]
  },
  {
   "cell_type": "code",
   "execution_count": 44,
   "metadata": {},
   "outputs": [
    {
     "name": "stdout",
     "output_type": "stream",
     "text": [
      "Assalam u aliyekum friends! We found a bigger dinner table so i am inviting three more friends to join us on dinner.\n",
      "\n",
      "['Fahim', 'Fahim', 'Jameel', 'Fahim', 'Jameel', 'Fahim', 'Jameel', 'Ahmed', 'Jameel', 'Sadiq', 'Yousuf', 'Omar', 'Atif', 'Sarfaraz', 'Kashif', 'Kashif', 'Kashif', 'Kashif']\n",
      "Assalam u aliyekum Fahim. after a long period we didn't meet each other so i have decided to arrange get together with all our  friends on dinner and you are cordially invited on dinner.\n",
      "\n",
      "Assalam u aliyekum Fahim. after a long period we didn't meet each other so i have decided to arrange get together with all our  friends on dinner and you are cordially invited on dinner.\n",
      "\n",
      "Assalam u aliyekum Jameel. after a long period we didn't meet each other so i have decided to arrange get together with all our  friends on dinner and you are cordially invited on dinner.\n",
      "\n",
      "Assalam u aliyekum Fahim. after a long period we didn't meet each other so i have decided to arrange get together with all our  friends on dinner and you are cordially invited on dinner.\n",
      "\n",
      "Assalam u aliyekum Jameel. after a long period we didn't meet each other so i have decided to arrange get together with all our  friends on dinner and you are cordially invited on dinner.\n",
      "\n",
      "Assalam u aliyekum Fahim. after a long period we didn't meet each other so i have decided to arrange get together with all our  friends on dinner and you are cordially invited on dinner.\n",
      "\n",
      "Assalam u aliyekum Jameel. after a long period we didn't meet each other so i have decided to arrange get together with all our  friends on dinner and you are cordially invited on dinner.\n",
      "\n",
      "Assalam u aliyekum Ahmed. after a long period we didn't meet each other so i have decided to arrange get together with all our  friends on dinner and you are cordially invited on dinner.\n",
      "\n",
      "Assalam u aliyekum Jameel. after a long period we didn't meet each other so i have decided to arrange get together with all our  friends on dinner and you are cordially invited on dinner.\n",
      "\n",
      "Assalam u aliyekum Sadiq. after a long period we didn't meet each other so i have decided to arrange get together with all our  friends on dinner and you are cordially invited on dinner.\n",
      "\n",
      "Assalam u aliyekum Yousuf. after a long period we didn't meet each other so i have decided to arrange get together with all our  friends on dinner and you are cordially invited on dinner.\n",
      "\n",
      "Assalam u aliyekum Omar. after a long period we didn't meet each other so i have decided to arrange get together with all our  friends on dinner and you are cordially invited on dinner.\n",
      "\n",
      "Assalam u aliyekum Atif. after a long period we didn't meet each other so i have decided to arrange get together with all our  friends on dinner and you are cordially invited on dinner.\n",
      "\n",
      "Assalam u aliyekum Sarfaraz. after a long period we didn't meet each other so i have decided to arrange get together with all our  friends on dinner and you are cordially invited on dinner.\n",
      "\n",
      "Assalam u aliyekum Kashif. after a long period we didn't meet each other so i have decided to arrange get together with all our  friends on dinner and you are cordially invited on dinner.\n",
      "\n",
      "Assalam u aliyekum Kashif. after a long period we didn't meet each other so i have decided to arrange get together with all our  friends on dinner and you are cordially invited on dinner.\n",
      "\n",
      "Assalam u aliyekum Kashif. after a long period we didn't meet each other so i have decided to arrange get together with all our  friends on dinner and you are cordially invited on dinner.\n",
      "\n",
      "Assalam u aliyekum Kashif. after a long period we didn't meet each other so i have decided to arrange get together with all our  friends on dinner and you are cordially invited on dinner.\n",
      "\n"
     ]
    }
   ],
   "source": [
    "print(\"Assalam u aliyekum friends! We found a bigger dinner table so i am inviting three more friends to join us on dinner.\\n\")\n",
    "\n",
    "guest_list.insert(0,\"Fahim\")\n",
    "guest_list.insert(2,\"Jameel\")\n",
    "guest_list.append(\"Kashif\")\n",
    "\n",
    "print(guest_list)\n",
    "for invite in guest_list:\n",
    "    print(\"Assalam u aliyekum \" + str(invite)+\".\" + \" after a long period we didn't meet each other so i have decided to arrange get together with all our  friends on dinner and you are cordially invited on dinner.\\n\")\n"
   ]
  },
  {
   "cell_type": "code",
   "execution_count": null,
   "metadata": {},
   "outputs": [],
   "source": []
  },
  {
   "cell_type": "code",
   "execution_count": null,
   "metadata": {},
   "outputs": [],
   "source": []
  },
  {
   "cell_type": "markdown",
   "metadata": {},
   "source": [
    "<h5> Q 5 : Here you have some data in variable below, your task is to make a list of specific word Surah then print the list and length of list</h5>\n"
   ]
  },
  {
   "cell_type": "code",
   "execution_count": 56,
   "metadata": {},
   "outputs": [
    {
     "name": "stdout",
     "output_type": "stream",
     "text": [
      "['S', 'u', 'r', 'a', 'h']\n",
      "Length: 5\n"
     ]
    }
   ],
   "source": [
    "spec_word = \"Surah\"\n",
    "new_lst = []\n",
    "for new_word in spec_word:\n",
    "    new_lst.append(new_word)\n",
    "print(new_lst)\n",
    "print(\"Length: \"+str(len(new_lst)))\n"
   ]
  },
  {
   "cell_type": "code",
   "execution_count": null,
   "metadata": {},
   "outputs": [],
   "source": []
  },
  {
   "cell_type": "markdown",
   "metadata": {},
   "source": [
    " <h3>Q no 6 : You have some name of cities in list named cities, Your task is to check whether Karachi is present in this list or not, if present print the index where the value Karachi is present</h3>"
   ]
  },
  {
   "cell_type": "code",
   "execution_count": 61,
   "metadata": {},
   "outputs": [
    {
     "name": "stdout",
     "output_type": "stream",
     "text": [
      "The Index of Karachi is 6\n"
     ]
    }
   ],
   "source": [
    "all_cities = [\"Hyderabad\",\"Lahore\",\"Islamabad\",\"Peshawar\",\"Sialkot\",\"Sukkur\",\"Karachi\",\"Nawab shah\",\"Dadu\"]\n",
    "my_city = \"Karachi\"\n",
    "for find_index in range(len(all_cities)):\n",
    "    if all_cities[find_index] == my_city:\n",
    "        print(\"The Index of \"+all_cities[find_index]+\" is \"+str(find_index))"
   ]
  },
  {
   "cell_type": "code",
   "execution_count": null,
   "metadata": {},
   "outputs": [],
   "source": []
  },
  {
   "cell_type": "code",
   "execution_count": null,
   "metadata": {},
   "outputs": [],
   "source": []
  }
 ],
 "metadata": {
  "kernelspec": {
   "display_name": "Python 3",
   "language": "python",
   "name": "python3"
  },
  "language_info": {
   "codemirror_mode": {
    "name": "ipython",
    "version": 3
   },
   "file_extension": ".py",
   "mimetype": "text/x-python",
   "name": "python",
   "nbconvert_exporter": "python",
   "pygments_lexer": "ipython3",
   "version": "3.7.3"
  }
 },
 "nbformat": 4,
 "nbformat_minor": 2
}
